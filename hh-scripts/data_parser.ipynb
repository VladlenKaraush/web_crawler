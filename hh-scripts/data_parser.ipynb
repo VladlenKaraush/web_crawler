{
 "cells": [
  {
   "cell_type": "code",
   "execution_count": 2,
   "metadata": {},
   "outputs": [],
   "source": [
    "from bs4 import BeautifulSoup\n",
    "import urllib.request\n",
    "import requests\n",
    "import re\n",
    "import math\n",
    "import numpy\n",
    "import pandas as pd \n",
    "\n",
    "import json\n",
    "import csv\n",
    "from itertools import chain\n",
    "from typing import List\n",
    "from multiprocessing.dummy import Pool as ThreadPool \n"
   ]
  },
  {
   "cell_type": "code",
   "execution_count": 3,
   "metadata": {},
   "outputs": [
    {
     "name": "stdout",
     "output_type": "stream",
     "text": [
      "Populating the interactive namespace from numpy and matplotlib\n"
     ]
    }
   ],
   "source": [
    "%pylab inline"
   ]
  },
  {
   "cell_type": "code",
   "execution_count": 4,
   "metadata": {},
   "outputs": [],
   "source": [
    "def make_df_with_float_salary(data):\n",
    "    for i in range(len(data) - 1):\n",
    "        data[i][2] = data[i][2].replace('от ', '').replace('до ', '').replace('.', '').split(' руб ')\n",
    "    with_salary = [r for r in data if len(r[2]) == 2]\n",
    "    with_float_salary = pd.DataFrame([[r[0], r[1], (1 if r[2][1] == 'на руки' else 0.8) * sum([int(el) for el in r[2][0].split(' ')]) / len(r[2][0].split(' ')) / 1000] for r in with_salary])\n",
    "    with_float_salary = with_float_salary.sort_values(by=[2, 1])\n",
    "    return with_float_salary"
   ]
  },
  {
   "cell_type": "code",
   "execution_count": 11,
   "metadata": {},
   "outputs": [],
   "source": [
    "def save_vacancy_dfs(city_abbr: str) -> pd.DataFrame:\n",
    "    '''Returns a pd.DataFrame (vacancy url, adress, salary) of fulltime vacancies in \n",
    "       corresponding to the abbreviation city and export it to csv'''\n",
    "    \n",
    "    cities_dir = {'spb': 'Санкт-Петербург', 'smr': 'Самара', 'kzn': 'Казань', 'vdk': 'Владивосток'}\n",
    "    \n",
    "    with open(f'../hh-data/tables/{city_abbr}/fulltime/completed.csv') as file:\n",
    "        data = [row.replace('\\xa0', '').split('; ') for row in file.read().split('\\n')]\n",
    "    \n",
    "    for i in range(len(data) - 1):\n",
    "        data[i][2] = data[i][2].replace('от ', '').replace('до ', '').replace('.', '').split(' руб ')\n",
    "    \n",
    "    with_salary = [r for r in data if len(r[2]) == 2]\n",
    "    with_salary_df = pd.DataFrame([[r[0], \n",
    "                        f'{cities_dir[city_abbr]}, ' * (cities_dir[city_abbr] not in r[1]) + r[1], \n",
    "                        int((1 if r[2][1] == 'на руки' else 0.8) * sum([int(el) for el in r[2][0].split(' ')]) / len(r[2][0].split(' ')) / 1000)] for r in with_salary])\n",
    "    with_salary_df = with_salary_df.sort_values(by=[2, 1])\n",
    "    with_salary_df.columns = ['url', 'adress', 'salary']\n",
    "    with_salary_df = with_salary_df[with_salary_df.salary > 0][with_salary_df.salary <= 300]    \n",
    "    with_salary_df.to_csv(f'../hh-data/tables/{city_abbr}/fulltime/url-adress-salary.csv', index=False)\n",
    "    \n",
    "    all_vacancies_df = with_salary_df = pd.DataFrame([[r[0], \n",
    "                        f'{cities_dir[city_abbr]}, ' * (cities_dir[city_abbr] not in r[1]) + r[1]] for r in data])\n",
    "    all_vacancies_df.columns = ['url', 'adress']\n",
    "    with_salary_df.to_csv(f'../hh-data/tables/{city_abbr}/fulltime/url-adress.csv', index=False)\n",
    "    return all_vacancies_df"
   ]
  },
  {
   "cell_type": "code",
   "execution_count": 12,
   "metadata": {},
   "outputs": [],
   "source": [
    "def plot_salaries(df, n=20):\n",
    "    n, bins, patches = plt.hist(list(df['salary'])[20:], n, density=True, facecolor='g', alpha=0.75)\n",
    "\n",
    "    plt.xlabel('Gpm')\n",
    "    plt.ylabel('Probability')\n",
    "    plt.grid(True)\n",
    "    plt.axis([10, 300, 0, 0.03])\n",
    "    plt.rcParams[\"figure.figsize\"] = [11, 11]\n",
    "    plt.show()\n"
   ]
  },
  {
   "cell_type": "code",
   "execution_count": 13,
   "metadata": {},
   "outputs": [],
   "source": [
    "def plot_ln_of_salaries(df, n=20):\n",
    "    n, bins, patches = plt.hist([math.log(a) for a in list(df['salary'])[20:]], n, density=True, facecolor='g', alpha=0.75)\n",
    "\n",
    "    plt.xlabel('Gpm')\n",
    "    plt.ylabel('Probability')\n",
    "    plt.grid(True)\n",
    "\n",
    "    plt.rcParams[\"figure.figsize\"] = [11, 11]\n",
    "    plt.show()\n"
   ]
  },
  {
   "cell_type": "code",
   "execution_count": null,
   "metadata": {
    "scrolled": false
   },
   "outputs": [],
   "source": []
  },
  {
   "cell_type": "code",
   "execution_count": 14,
   "metadata": {},
   "outputs": [
    {
     "name": "stderr",
     "output_type": "stream",
     "text": [
      "/home/disa/.local/lib/python3.6/site-packages/ipykernel_launcher.py:19: UserWarning: Boolean Series key will be reindexed to match DataFrame index.\n"
     ]
    }
   ],
   "source": [
    "spb_df = save_vacancy_dfs('spb')\n",
    "smr_df = save_vacancy_dfs('smr')\n",
    "kzn_df = save_vacancy_dfs('kzn')\n"
   ]
  },
  {
   "cell_type": "code",
   "execution_count": null,
   "metadata": {},
   "outputs": [],
   "source": []
  },
  {
   "cell_type": "code",
   "execution_count": null,
   "metadata": {},
   "outputs": [],
   "source": []
  },
  {
   "cell_type": "code",
   "execution_count": null,
   "metadata": {},
   "outputs": [],
   "source": []
  },
  {
   "cell_type": "code",
   "execution_count": null,
   "metadata": {},
   "outputs": [],
   "source": []
  },
  {
   "cell_type": "code",
   "execution_count": null,
   "metadata": {},
   "outputs": [],
   "source": []
  },
  {
   "cell_type": "code",
   "execution_count": null,
   "metadata": {},
   "outputs": [],
   "source": []
  }
 ],
 "metadata": {
  "kernelspec": {
   "display_name": "Python 3",
   "language": "python",
   "name": "python3"
  },
  "language_info": {
   "codemirror_mode": {
    "name": "ipython",
    "version": 3
   },
   "file_extension": ".py",
   "mimetype": "text/x-python",
   "name": "python",
   "nbconvert_exporter": "python",
   "pygments_lexer": "ipython3",
   "version": "3.6.7"
  }
 },
 "nbformat": 4,
 "nbformat_minor": 2
}
