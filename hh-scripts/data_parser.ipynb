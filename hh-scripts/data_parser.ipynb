{
 "cells": [
  {
   "cell_type": "code",
   "execution_count": 246,
   "metadata": {},
   "outputs": [],
   "source": [
    "from bs4 import BeautifulSoup\n",
    "import urllib.request\n",
    "import requests\n",
    "import re\n",
    "import math\n",
    "import numpy\n",
    "import pandas as pd \n",
    "\n",
    "import json\n",
    "import csv\n",
    "from itertools import chain\n",
    "from typing import List\n",
    "from multiprocessing.dummy import Pool as ThreadPool \n"
   ]
  },
  {
   "cell_type": "code",
   "execution_count": 247,
   "metadata": {},
   "outputs": [
    {
     "name": "stdout",
     "output_type": "stream",
     "text": [
      "Populating the interactive namespace from numpy and matplotlib\n"
     ]
    }
   ],
   "source": [
    "%pylab inline"
   ]
  },
  {
   "cell_type": "code",
   "execution_count": 320,
   "metadata": {},
   "outputs": [],
   "source": [
    "with open('../hh-data/tables/spb/fulltime/completed.csv') as file:\n",
    "    spb_fulltime_with_adresses = [row.replace('\\xa0', '').split('; ') for row in file.read().split('\\n')]\n",
    "\n",
    "with open('../hh-data/tables/spb/completed.csv') as file:\n",
    "    spb_with_adresses = [row.replace('\\xa0', '').split('; ') for row in file.read().split('\\n')]\n",
    "\n",
    "with open('../hh-data/tables/smr/completed.csv') as file:\n",
    "    smr_with_adresses = [row.replace('\\xa0', '').split('; ') for row in file.read().split('\\n')]\n",
    "    \n",
    "with open('../hh-data/tables/smr/fulltime/completed.csv') as file:\n",
    "    smr_fulltime_with_adresses = [row.replace('\\xa0', '').split('; ') for row in file.read().split('\\n')]\n",
    "\n",
    "with open('../hh-data/tables/kzn/completed.csv') as file:\n",
    "    kzn_with_adresses = [row.replace('\\xa0', '').split('; ') for row in file.read().split('\\n')]\n",
    "    \n",
    "with open('../hh-data/tables/kzn/fulltime/completed.csv') as file:\n",
    "    kzn_fulltime_with_adresses = [row.replace('\\xa0', '').split('; ') for row in file.read().split('\\n')]\n",
    "    \n",
    "with open('../hh-data/tables/spb/no-adress.csv') as file:\n",
    "    spb_with_no_adresses = [row.replace('\\xa0', '').split('; ') for row in file.read().split('\\n')]\n",
    "\n",
    "with open('../hh-data/tables/smr/no-adress.csv') as file:\n",
    "    smr_with_no_adresses = [row.replace('\\xa0', '').split('; ') for row in file.read().split('\\n')]"
   ]
  },
  {
   "cell_type": "code",
   "execution_count": 321,
   "metadata": {
    "scrolled": false
   },
   "outputs": [],
   "source": [
    "spb_with_adresses_df = make_df_with_float_salary(spb_with_adresses)\n",
    "spb_fulltime_with_adresses_df = make_df_with_float_salary(spb_fulltime_with_adresses)\n",
    "smr_with_adresses_df = make_df_with_float_salary(smr_with_adresses)\n",
    "smr_fulltime_with_adresses_df = make_df_with_float_salary(smr_fulltime_with_adresses)\n",
    "kzn_with_adresses_df = make_df_with_float_salary(kzn_with_adresses)\n",
    "kzn_fulltime_with_adresses_df = make_df_with_float_salary(kzn_fulltime_with_adresses)\n",
    "spb_with_no_adresses_df = make_df_with_float_salary(spb_with_no_adresses)\n",
    "smr_with_no_adresses_df = make_df_with_float_salary(smr_with_no_adresses)\n"
   ]
  },
  {
   "cell_type": "code",
   "execution_count": 322,
   "metadata": {},
   "outputs": [],
   "source": [
    "def make_df_with_float_salary(data):\n",
    "    for i in range(len(data) - 1):\n",
    "        data[i][2] = data[i][2].replace('от ', '').replace('до ', '').replace('.', '').split(' руб ')\n",
    "    with_salary = [r for r in data if len(r[2]) == 2]\n",
    "    with_float_salary = pd.DataFrame([[r[0], r[1], (1 if r[2][1] == 'на руки' else 0.8) * sum([int(el) for el in r[2][0].split(' ')]) / len(r[2][0].split(' ')) / 1000] for r in with_salary])\n",
    "    with_float_salary = with_float_salary.sort_values(by=[2, 1])\n",
    "    return with_float_salary"
   ]
  },
  {
   "cell_type": "code",
   "execution_count": 323,
   "metadata": {},
   "outputs": [],
   "source": [
    "def plot_salaries(df, n=20):\n",
    "    n, bins, patches = plt.hist(list(df[2])[20:], n, density=True, facecolor='g', alpha=0.75)\n",
    "\n",
    "    plt.xlabel('Gpm')\n",
    "    plt.ylabel('Probability')\n",
    "    plt.grid(True)\n",
    "    plt.axis([10, 400, 0, 0.03])\n",
    "    plt.rcParams[\"figure.figsize\"] = [11, 11]\n",
    "    plt.show()\n"
   ]
  },
  {
   "cell_type": "code",
   "execution_count": 324,
   "metadata": {},
   "outputs": [],
   "source": [
    "def plot_ln_of_salaries(df, n=20):\n",
    "    n, bins, patches = plt.hist([math.log(a) for a in list(df[2])[20:]], n, density=True, facecolor='g', alpha=0.75)\n",
    "\n",
    "    plt.xlabel('Gpm')\n",
    "    plt.ylabel('Probability')\n",
    "    plt.grid(True)\n",
    "\n",
    "    plt.rcParams[\"figure.figsize\"] = [11, 11]\n",
    "    plt.show()\n"
   ]
  },
  {
   "cell_type": "code",
   "execution_count": null,
   "metadata": {},
   "outputs": [],
   "source": []
  },
  {
   "cell_type": "code",
   "execution_count": 325,
   "metadata": {},
   "outputs": [
    {
     "data": {
      "text/plain": [
       "1591"
      ]
     },
     "execution_count": 325,
     "metadata": {},
     "output_type": "execute_result"
    }
   ],
   "source": [
    "len(kzn_fulltime_with_adresses_df)"
   ]
  },
  {
   "cell_type": "code",
   "execution_count": 326,
   "metadata": {},
   "outputs": [
    {
     "data": {
      "text/plain": [
       "962"
      ]
     },
     "execution_count": 326,
     "metadata": {},
     "output_type": "execute_result"
    }
   ],
   "source": [
    "len(smr_with_adresses_df)"
   ]
  },
  {
   "cell_type": "code",
   "execution_count": 327,
   "metadata": {},
   "outputs": [
    {
     "data": {
      "text/plain": [
       "1591"
      ]
     },
     "execution_count": 327,
     "metadata": {},
     "output_type": "execute_result"
    }
   ],
   "source": [
    "len(kzn_fulltime_with_adresses_df)"
   ]
  },
  {
   "cell_type": "code",
   "execution_count": 336,
   "metadata": {
    "scrolled": false
   },
   "outputs": [
    {
     "data": {
      "image/png": "[encoded data removed]",
      "text/plain": [
       "<Figure size 792x792 with 1 Axes>"
      ]
     },
     "metadata": {
      "needs_background": "light"
     },
     "output_type": "display_data"
    }
   ],
   "source": [
    "plot_salaries(spb_fulltime_with_adresses_df, 20)"
   ]
  },
  {
   "cell_type": "code",
   "execution_count": 302,
   "metadata": {},
   "outputs": [
    {
     "data": {
      "image/png": "[encoded data removed]",
      "text/plain": [
       "<Figure size 792x792 with 1 Axes>"
      ]
     },
     "metadata": {
      "needs_background": "light"
     },
     "output_type": "display_data"
    }
   ],
   "source": [
    "plot_ln_of_salaries(kzn_fulltime_with_adresses_df)"
   ]
  },
  {
   "cell_type": "code",
   "execution_count": null,
   "metadata": {},
   "outputs": [],
   "source": []
  },
  {
   "cell_type": "code",
   "execution_count": null,
   "metadata": {},
   "outputs": [],
   "source": []
  }
 ],
 "metadata": {
  "kernelspec": {
   "display_name": "Python 3",
   "language": "python",
   "name": "python3"
  },
  "language_info": {
   "codemirror_mode": {
    "name": "ipython",
    "version": 3
   },
   "file_extension": ".py",
   "mimetype": "text/x-python",
   "name": "python",
   "nbconvert_exporter": "python",
   "pygments_lexer": "ipython3",
   "version": "3.6.7"
  }
 },
 "nbformat": 4,
 "nbformat_minor": 2
}
