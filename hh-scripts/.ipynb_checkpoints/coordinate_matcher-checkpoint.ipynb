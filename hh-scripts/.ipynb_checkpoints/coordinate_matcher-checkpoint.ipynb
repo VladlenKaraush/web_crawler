{
 "cells": [
  {
   "cell_type": "code",
   "execution_count": 3,
   "metadata": {},
   "outputs": [],
   "source": [
    "from bs4 import BeautifulSoup\n",
    "import urllib.request\n",
    "import requests\n",
    "import re\n",
    "import math\n",
    "import numpy\n",
    "import pandas as pd \n",
    "\n",
    "import json\n",
    "import csv\n",
    "from itertools import chain\n",
    "from typing import List\n",
    "from multiprocessing.dummy import Pool as ThreadPool \n",
    "import math"
   ]
  },
  {
   "cell_type": "code",
   "execution_count": 2,
   "metadata": {},
   "outputs": [],
   "source": [
    "def read_df(city_abbr):\n",
    "    data = pd.read_csv(f'../hh-data/tables/{city_abbr}/fulltime/url-adress-salary.csv')\n",
    "    return data\n",
    "\n",
    "\n",
    "def chunks(l, n):\n",
    "    \"\"\"Yield successive n-sized chunks from l.\"\"\"\n",
    "    for i in range(0, len(l), n):\n",
    "        yield l[i:i + n]\n",
    "        \n",
    "\n",
    "def get_lat_lon(adress):\n",
    "    api_key = '04bce1f4-b257-45ac-acf5-673a9e894fc1'\n",
    "    api_url = f'https://geocode-maps.yandex.ru/1.x/?apikey={api_key}&format=json&geocode='\n",
    "    r = requests.get(api_url+adress)\n",
    "    d = json.loads(r.text)\n",
    "    if d['response']['GeoObjectCollection']['metaDataProperty']['GeocoderResponseMetaData']['found'] != 0:\n",
    "        longitude, latitude = d['response']['GeoObjectCollection']['featureMember'][0]['GeoObject']['Point']['pos'].split()\n",
    "        return (latitude, longitude)\n",
    "    return tuple()\n",
    "\n",
    "\n",
    "def f(row):\n",
    "    try:\n",
    "        adress = row['adress'].replace(' ', '+')\n",
    "        coordinates = get_lat_lon(adress)\n",
    "        if coordinates:\n",
    "            return ([row['url'], row['adress'], ', '.join([str(c) for c in coordinates]), row['salary']])\n",
    "    except urllib.error.HTTPError:\n",
    "        print(url)\n",
    "    except IndexError:\n",
    "        pass\n",
    "\n",
    "def save_rows_as_txt(city_abbr):\n",
    "\n",
    "    rows = [row for index, row in read_df(city_abbr).iterrows()]\n",
    "    row_chunks = chunks(rows, 2)\n",
    "\n",
    "\n",
    "    for chunk in row_chunks:\n",
    "\n",
    "        pool = ThreadPool(8) \n",
    "\n",
    "        results = pool.map(f, chunk)\n",
    "\n",
    "        pool.close() \n",
    "        pool.join()\n",
    "        \n",
    "        print(results)\n",
    "\n",
    "        with open(f\"../hh-data/tables/{city_abbr}/fulltime/rows_with_lat_lon.txt\", \"a\") as file:\n",
    "            file.write('\\n'.join(['; '.join([str(el) for el in row]) for row in r]))\n"
   ]
  },
  {
   "cell_type": "code",
   "execution_count": null,
   "metadata": {},
   "outputs": [],
   "source": []
  },
  {
   "cell_type": "code",
   "execution_count": null,
   "metadata": {},
   "outputs": [],
   "source": [
    "\n"
   ]
  },
  {
   "cell_type": "code",
   "execution_count": 3,
   "metadata": {},
   "outputs": [],
   "source": []
  },
  {
   "cell_type": "code",
   "execution_count": 14,
   "metadata": {},
   "outputs": [],
   "source": []
  },
  {
   "cell_type": "code",
   "execution_count": 31,
   "metadata": {
    "scrolled": false
   },
   "outputs": [],
   "source": []
  },
  {
   "cell_type": "code",
   "execution_count": null,
   "metadata": {},
   "outputs": [],
   "source": []
  },
  {
   "cell_type": "code",
   "execution_count": null,
   "metadata": {},
   "outputs": [],
   "source": []
  },
  {
   "cell_type": "code",
   "execution_count": 68,
   "metadata": {},
   "outputs": [],
   "source": []
  },
  {
   "cell_type": "code",
   "execution_count": 69,
   "metadata": {},
   "outputs": [
    {
     "name": "stdout",
     "output_type": "stream",
     "text": [
      "[['https://spb.hh.ru/vacancy/30707536', 'Пролетарская, Санкт-Петербург, проспект Обуховской Обороны, 112к2И', '59.866635, 30.472022', 4], ['https://spb.hh.ru/vacancy/30539353', 'Московская, Санкт-Петербург, 2 линия, метро Московская', '59.852018, 30.322399', 8]]\n"
     ]
    }
   ],
   "source": [
    "r = save_rows_as_txt('spb')"
   ]
  },
  {
   "cell_type": "code",
   "execution_count": 139,
   "metadata": {},
   "outputs": [],
   "source": [
    "def write_as_csv(city_abbr):\n",
    "    with open(f\"../hh-data/tables/{city_abbr}/fulltime/rows_with_lat_lon.txt\") as file:\n",
    "        rows = [line.split('; ') for line in file.read().replace(\"https\", \"\\nhttps\").split('\\n')]\n",
    "    rows = [row for row in rows if len(row) == 4]\n",
    "    df = pd.DataFrame(rows)\n",
    "    df.columns = ['url', 'adress', 'coordinates', 'salary']\n",
    "    df.to_csv(f\"../hh-data/tables/{city_abbr}/fulltime/url-adress-coord-salary.csv\", index=False)\n",
    "    return df"
   ]
  },
  {
   "cell_type": "code",
   "execution_count": 24,
   "metadata": {},
   "outputs": [],
   "source": [
    "def export_to_json(city_abbr):\n",
    "    df = pd.read_csv(f\"../hh-data/tables/{city_abbr}/fulltime/url-adress-coord-salary.csv\")\n",
    "    objects = []\n",
    "    for coord, salary in zip(df[\"coordinates\"].values, df['salary'].values):\n",
    "        lat, lng = (float(c) for c in coord.split(', '))\n",
    "        objects.append({\"lat\": lat, \"lng\": lng, \"count\": int(salary) * math.log(int(salary))})\n",
    "    json_vacancies = json.dumps(objects)\n",
    "    with open(f\"../hh-data/json/{city_abbr}.json\", 'w') as file:\n",
    "        file.write(json_vacancies)"
   ]
  },
  {
   "cell_type": "code",
   "execution_count": 25,
   "metadata": {
    "scrolled": true
   },
   "outputs": [],
   "source": [
    "export_to_json('spb')\n",
    "export_to_json('kzn')\n",
    "export_to_json('smr')"
   ]
  },
  {
   "cell_type": "code",
   "execution_count": 7,
   "metadata": {},
   "outputs": [],
   "source": [
    "int(salary) ** math.log(int(salary)) / 100"
   ]
  },
  {
   "cell_type": "code",
   "execution_count": 17,
   "metadata": {},
   "outputs": [],
   "source": []
  },
  {
   "cell_type": "code",
   "execution_count": 15,
   "metadata": {},
   "outputs": [],
   "source": []
  },
  {
   "cell_type": "code",
   "execution_count": null,
   "metadata": {},
   "outputs": [],
   "source": []
  },
  {
   "cell_type": "code",
   "execution_count": null,
   "metadata": {},
   "outputs": [],
   "source": []
  }
 ],
 "metadata": {
  "kernelspec": {
   "display_name": "Python 3",
   "language": "python",
   "name": "python3"
  },
  "language_info": {
   "codemirror_mode": {
    "name": "ipython",
    "version": 3
   },
   "file_extension": ".py",
   "mimetype": "text/x-python",
   "name": "python",
   "nbconvert_exporter": "python",
   "pygments_lexer": "ipython3",
   "version": "3.6.7"
  }
 },
 "nbformat": 4,
 "nbformat_minor": 2
}
