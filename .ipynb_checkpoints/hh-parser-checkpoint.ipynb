{
 "cells": [
  {
   "cell_type": "code",
   "execution_count": 1,
   "metadata": {},
   "outputs": [],
   "source": [
    "from bs4 import BeautifulSoup\n",
    "import urllib.request\n",
    "import requests\n",
    "import re\n",
    "\n",
    "import numpy\n",
    "import pandas as pd \n",
    "\n",
    "import json\n",
    "import csv"
   ]
  },
  {
   "cell_type": "code",
   "execution_count": 70,
   "metadata": {
    "scrolled": false
   },
   "outputs": [],
   "source": [
    "def get_vacancy_urls_from_all_pages(search_url: str) -> list:\n",
    "    total_pages_with_results = max([int(a.contents[0]) for a in BeautifulSoup(urllib.request.urlopen(search_url)).findAll(\"a\", {\"class\": \"HH-Pager-Control\"}) if len(a.contents[0]) <= 3])\n",
    "    vacancy_ulrs = []\n",
    "    for i in range(total_pages_with_results):\n",
    "        results_response = urllib.request.urlopen(search_url + f\"&page={i}\")\n",
    "        results_soup = BeautifulSoup(results_response)\n",
    "        vacancy_divs = results_soup.findAll(\"div\", {\"class\": \"vacancy-serp-item\"})\n",
    "        vacancy_ulrs += [div.findAll(\"a\", {\"class\":\"HH-LinkModifier\"})[0]['href'] for div in vacancy_divs]\n",
    "    return vacancy_ulrs"
   ]
  },
  {
   "cell_type": "code",
   "execution_count": 67,
   "metadata": {},
   "outputs": [],
   "source": [
    "search_in_samara_url = \"https://samara.hh.ru/search/vacancy?text=&area=78&salary=&currency_code=RUR&experience=doesNotMatter&employment=full&employment=part&employment=project&schedule=fullDay&schedule=shift&schedule=flexible&schedule=flyInFlyOut&order_by=relevance&search_period=&items_on_page=100&no_magic=true\""
   ]
  },
  {
   "cell_type": "code",
   "execution_count": 71,
   "metadata": {},
   "outputs": [],
   "source": [
    "initial_search_results_page = urllib.request.urlopen(\"https://samara.hh.ru/search/vacancy?text=&area=78&salary=&currency_code=RUR&experience=doesNotMatter&employment=full&employment=part&employment=project&schedule=fullDay&schedule=shift&schedule=flexible&schedule=flyInFlyOut&order_by=relevance&search_period=&items_on_page=100&no_magic=true\")\n",
    "initial_search_results_soup = BeautifulSoup(initial_search_results_page)"
   ]
  },
  {
   "cell_type": "code",
   "execution_count": 72,
   "metadata": {},
   "outputs": [],
   "source": [
    "clusters = initial_search_results_soup.findAll(\"div\", {\"data-toggle\": \"specialization\"})"
   ]
  },
  {
   "cell_type": "code",
   "execution_count": 75,
   "metadata": {},
   "outputs": [],
   "source": [
    "https://samara.hh.ru/search/vacancy?area=78&clusters=true&employment=full&employment=part&employment=project&enable_snippets=true&items_on_page=100&no_magic=true&order_by=salary_desc&schedule=shift&schedule=flexible&schedule=fullDay&search_period=30&specialization=17&from=cluster_professionalArea"
   ]
  },
  {
   "cell_type": "code",
   "execution_count": 78,
   "metadata": {},
   "outputs": [
    {
     "data": {
      "text/plain": [
       "[{'rel': ['nofollow'],\n",
       "  'class': ['clusters-value', 'clusters-value_selected'],\n",
       "  'href': '?clusters=true&employment=full&employment=part&employment=project&enable_snippets=true&items_on_page=100&no_magic=true&schedule=fullDay&schedule=shift&schedule=flexible&schedule=flyInFlyOut',\n",
       "  'data-qa': 'serp__criterion'},\n",
       " {'rel': ['nofollow'],\n",
       "  'class': ['clusters-value'],\n",
       "  'href': '?employment=full&employment=part&employment=project&schedule=fullDay&schedule=shift&schedule=flexible&schedule=flyInFlyOut&clusters=true&items_on_page=100&no_magic=true&enable_snippets=true&area=212&from=NEIGHBOURS'},\n",
       " {'rel': ['nofollow'],\n",
       "  'class': ['clusters-value'],\n",
       "  'href': '?employment=full&employment=part&employment=project&schedule=fullDay&schedule=shift&schedule=flexible&schedule=flyInFlyOut&clusters=true&items_on_page=100&no_magic=true&enable_snippets=true&area=1590&from=NEIGHBOURS'},\n",
       " {'rel': ['nofollow'],\n",
       "  'class': ['clusters-value'],\n",
       "  'href': '?employment=full&employment=part&employment=project&schedule=fullDay&schedule=shift&schedule=flexible&schedule=flyInFlyOut&clusters=true&items_on_page=100&no_magic=true&enable_snippets=true&area=1587&from=NEIGHBOURS'},\n",
       " {'rel': ['nofollow'],\n",
       "  'class': ['clusters-value'],\n",
       "  'href': '?employment=full&employment=part&employment=project&schedule=fullDay&schedule=shift&schedule=flexible&schedule=flyInFlyOut&clusters=true&items_on_page=100&no_magic=true&enable_snippets=true&area=1595&from=NEIGHBOURS'},\n",
       " {'rel': ['nofollow'],\n",
       "  'class': ['clusters-value'],\n",
       "  'href': '?employment=full&employment=part&employment=project&schedule=fullDay&schedule=shift&schedule=flexible&schedule=flyInFlyOut&clusters=true&items_on_page=100&no_magic=true&enable_snippets=true&area=1592&from=NEIGHBOURS'},\n",
       " {'rel': ['nofollow'],\n",
       "  'class': ['clusters-value'],\n",
       "  'href': '?employment=full&employment=part&employment=project&schedule=fullDay&schedule=shift&schedule=flexible&schedule=flyInFlyOut&clusters=true&items_on_page=100&no_magic=true&enable_snippets=true&area=1588&from=NEIGHBOURS'},\n",
       " {'rel': ['nofollow'],\n",
       "  'class': ['clusters-value'],\n",
       "  'href': '?employment=full&employment=part&employment=project&schedule=fullDay&schedule=shift&schedule=flexible&schedule=flyInFlyOut&clusters=true&items_on_page=100&no_magic=true&enable_snippets=true&area=1589&from=NEIGHBOURS'},\n",
       " {'rel': ['nofollow'],\n",
       "  'class': ['clusters-value'],\n",
       "  'href': '?employment=full&employment=part&employment=project&schedule=fullDay&schedule=shift&schedule=flexible&schedule=flyInFlyOut&clusters=true&items_on_page=100&no_magic=true&enable_snippets=true&area=2762&from=NEIGHBOURS'},\n",
       " {'rel': ['nofollow'],\n",
       "  'class': ['clusters-value'],\n",
       "  'href': '?employment=full&employment=part&employment=project&schedule=fullDay&schedule=shift&schedule=flexible&schedule=flyInFlyOut&clusters=true&items_on_page=100&no_magic=true&enable_snippets=true&area=3046&from=NEIGHBOURS'},\n",
       " {'rel': ['nofollow'],\n",
       "  'class': ['clusters-value'],\n",
       "  'href': '?employment=full&employment=part&employment=project&schedule=fullDay&schedule=shift&schedule=flexible&schedule=flyInFlyOut&clusters=true&items_on_page=100&no_magic=true&enable_snippets=true&area=6009&from=NEIGHBOURS'},\n",
       " {'rel': ['nofollow'],\n",
       "  'class': ['clusters-value'],\n",
       "  'href': '?employment=full&employment=part&employment=project&schedule=fullDay&schedule=shift&schedule=flexible&schedule=flyInFlyOut&clusters=true&items_on_page=100&no_magic=true&enable_snippets=true&area=3040&from=NEIGHBOURS'},\n",
       " {'rel': ['nofollow'],\n",
       "  'class': ['clusters-value'],\n",
       "  'href': '?employment=full&employment=part&employment=project&schedule=fullDay&schedule=shift&schedule=flexible&schedule=flyInFlyOut&clusters=true&items_on_page=100&no_magic=true&enable_snippets=true&area=2521&from=NEIGHBOURS'},\n",
       " {'rel': ['nofollow'],\n",
       "  'class': ['clusters-value'],\n",
       "  'href': '?employment=full&employment=part&employment=project&schedule=fullDay&schedule=shift&schedule=flexible&schedule=flyInFlyOut&clusters=true&items_on_page=100&no_magic=true&enable_snippets=true&area=3036&from=NEIGHBOURS'},\n",
       " {'rel': ['nofollow'],\n",
       "  'class': ['clusters-value'],\n",
       "  'href': '?employment=full&employment=part&employment=project&schedule=fullDay&schedule=shift&schedule=flexible&schedule=flyInFlyOut&clusters=true&items_on_page=100&no_magic=true&enable_snippets=true&area=3659&from=NEIGHBOURS'},\n",
       " {'rel': ['nofollow'],\n",
       "  'class': ['clusters-value'],\n",
       "  'href': '?employment=full&employment=part&employment=project&schedule=fullDay&schedule=shift&schedule=flexible&schedule=flyInFlyOut&clusters=true&items_on_page=100&no_magic=true&enable_snippets=true&area=6189&from=NEIGHBOURS'},\n",
       " {'rel': ['nofollow'],\n",
       "  'class': ['clusters-value'],\n",
       "  'href': '?area=78&clusters=true&employment=full&employment=part&employment=project&enable_snippets=true&items_on_page=100&no_magic=true&schedule=fullDay&schedule=shift&schedule=flexible&schedule=flyInFlyOut&metro=54&from=cluster_metro'},\n",
       " {'rel': ['nofollow'],\n",
       "  'class': ['clusters-value'],\n",
       "  'href': '?area=78&clusters=true&employment=full&employment=part&employment=project&enable_snippets=true&items_on_page=100&no_magic=true&schedule=fullDay&schedule=shift&schedule=flexible&schedule=flyInFlyOut&only_with_salary=true&from=cluster_compensation'},\n",
       " {'rel': ['nofollow'],\n",
       "  'class': ['clusters-value'],\n",
       "  'href': '?area=78&clusters=true&employment=full&employment=part&employment=project&enable_snippets=true&items_on_page=100&no_magic=true&schedule=fullDay&schedule=shift&schedule=flexible&schedule=flyInFlyOut&only_with_salary=true&salary=25000&from=cluster_compensation'},\n",
       " {'rel': ['nofollow'],\n",
       "  'class': ['clusters-value'],\n",
       "  'href': '?area=78&clusters=true&employment=full&employment=part&employment=project&enable_snippets=true&items_on_page=100&no_magic=true&schedule=fullDay&schedule=shift&schedule=flexible&schedule=flyInFlyOut&only_with_salary=true&salary=45000&from=cluster_compensation'},\n",
       " {'rel': ['nofollow'],\n",
       "  'class': ['clusters-value'],\n",
       "  'href': '?area=78&clusters=true&employment=full&employment=part&employment=project&enable_snippets=true&items_on_page=100&no_magic=true&schedule=fullDay&schedule=shift&schedule=flexible&schedule=flyInFlyOut&only_with_salary=true&salary=65000&from=cluster_compensation'},\n",
       " {'rel': ['nofollow'],\n",
       "  'class': ['clusters-value'],\n",
       "  'href': '?area=78&clusters=true&employment=full&employment=part&employment=project&enable_snippets=true&items_on_page=100&no_magic=true&schedule=fullDay&schedule=shift&schedule=flexible&schedule=flyInFlyOut&only_with_salary=true&salary=85000&from=cluster_compensation'},\n",
       " {'rel': ['nofollow'],\n",
       "  'class': ['clusters-value'],\n",
       "  'href': '?area=78&clusters=true&employment=full&employment=part&employment=project&enable_snippets=true&items_on_page=100&no_magic=true&schedule=fullDay&schedule=shift&schedule=flexible&schedule=flyInFlyOut&only_with_salary=true&salary=105000&from=cluster_compensation'},\n",
       " {'rel': ['nofollow'],\n",
       "  'class': ['clusters-value'],\n",
       "  'href': '?area=78&clusters=true&employment=full&employment=part&employment=project&enable_snippets=true&items_on_page=100&no_magic=true&schedule=fullDay&schedule=shift&schedule=flexible&schedule=flyInFlyOut&specialization=17&from=cluster_professionalArea'},\n",
       " {'rel': ['nofollow'],\n",
       "  'class': ['clusters-value'],\n",
       "  'href': '?area=78&clusters=true&employment=full&employment=part&employment=project&enable_snippets=true&items_on_page=100&no_magic=true&schedule=fullDay&schedule=shift&schedule=flexible&schedule=flyInFlyOut&specialization=1&from=cluster_professionalArea'},\n",
       " {'rel': ['nofollow'],\n",
       "  'class': ['clusters-value'],\n",
       "  'href': '?area=78&clusters=true&employment=full&employment=part&employment=project&enable_snippets=true&items_on_page=100&no_magic=true&schedule=fullDay&schedule=shift&schedule=flexible&schedule=flyInFlyOut&specialization=18&from=cluster_professionalArea'},\n",
       " {'rel': ['nofollow'],\n",
       "  'class': ['clusters-value'],\n",
       "  'href': '?area=78&clusters=true&employment=full&employment=part&employment=project&enable_snippets=true&items_on_page=100&no_magic=true&schedule=fullDay&schedule=shift&schedule=flexible&schedule=flyInFlyOut&specialization=13&from=cluster_professionalArea'},\n",
       " {'rel': ['nofollow'],\n",
       "  'class': ['clusters-value'],\n",
       "  'href': '?area=78&clusters=true&employment=full&employment=part&employment=project&enable_snippets=true&items_on_page=100&no_magic=true&schedule=fullDay&schedule=shift&schedule=flexible&schedule=flyInFlyOut&specialization=20&from=cluster_professionalArea'},\n",
       " {'rel': ['nofollow'],\n",
       "  'class': ['clusters-value'],\n",
       "  'href': '?area=78&clusters=true&employment=full&employment=part&employment=project&enable_snippets=true&items_on_page=100&no_magic=true&schedule=fullDay&schedule=shift&schedule=flexible&schedule=flyInFlyOut&specialization=29&from=cluster_professionalArea'},\n",
       " {'rel': ['nofollow'],\n",
       "  'class': ['clusters-value'],\n",
       "  'href': '?area=78&clusters=true&employment=full&employment=part&employment=project&enable_snippets=true&items_on_page=100&no_magic=true&schedule=fullDay&schedule=shift&schedule=flexible&schedule=flyInFlyOut&specialization=4&from=cluster_professionalArea'},\n",
       " {'rel': ['nofollow'],\n",
       "  'class': ['clusters-value'],\n",
       "  'href': '?area=78&clusters=true&employment=full&employment=part&employment=project&enable_snippets=true&items_on_page=100&no_magic=true&schedule=fullDay&schedule=shift&schedule=flexible&schedule=flyInFlyOut&specialization=15&from=cluster_professionalArea'},\n",
       " {'rel': ['nofollow'],\n",
       "  'class': ['clusters-value'],\n",
       "  'href': '?area=78&clusters=true&employment=full&employment=part&employment=project&enable_snippets=true&items_on_page=100&no_magic=true&schedule=fullDay&schedule=shift&schedule=flexible&schedule=flyInFlyOut&specialization=5&from=cluster_professionalArea'},\n",
       " {'rel': ['nofollow'],\n",
       "  'class': ['clusters-value'],\n",
       "  'href': '?area=78&clusters=true&employment=full&employment=part&employment=project&enable_snippets=true&items_on_page=100&no_magic=true&schedule=fullDay&schedule=shift&schedule=flexible&schedule=flyInFlyOut&specialization=21&from=cluster_professionalArea'},\n",
       " {'rel': ['nofollow'],\n",
       "  'class': ['clusters-value'],\n",
       "  'href': '?area=78&clusters=true&employment=full&employment=part&employment=project&enable_snippets=true&items_on_page=100&no_magic=true&schedule=fullDay&schedule=shift&schedule=flexible&schedule=flyInFlyOut&specialization=2&from=cluster_professionalArea'},\n",
       " {'rel': ['nofollow'],\n",
       "  'class': ['clusters-value'],\n",
       "  'href': '?area=78&clusters=true&employment=full&employment=part&employment=project&enable_snippets=true&items_on_page=100&no_magic=true&schedule=fullDay&schedule=shift&schedule=flexible&schedule=flyInFlyOut&specialization=3&from=cluster_professionalArea'},\n",
       " {'rel': ['nofollow'],\n",
       "  'class': ['clusters-value'],\n",
       "  'href': '?area=78&clusters=true&employment=full&employment=part&employment=project&enable_snippets=true&items_on_page=100&no_magic=true&schedule=fullDay&schedule=shift&schedule=flexible&schedule=flyInFlyOut&specialization=22&from=cluster_professionalArea'},\n",
       " {'rel': ['nofollow'],\n",
       "  'class': ['clusters-value'],\n",
       "  'href': '?area=78&clusters=true&employment=full&employment=part&employment=project&enable_snippets=true&items_on_page=100&no_magic=true&schedule=fullDay&schedule=shift&schedule=flexible&schedule=flyInFlyOut&specialization=7&from=cluster_professionalArea'},\n",
       " {'rel': ['nofollow'],\n",
       "  'class': ['clusters-value'],\n",
       "  'href': '?area=78&clusters=true&employment=full&employment=part&employment=project&enable_snippets=true&items_on_page=100&no_magic=true&schedule=fullDay&schedule=shift&schedule=flexible&schedule=flyInFlyOut&specialization=6&from=cluster_professionalArea'},\n",
       " {'rel': ['nofollow'],\n",
       "  'class': ['clusters-value'],\n",
       "  'href': '?area=78&clusters=true&employment=full&employment=part&employment=project&enable_snippets=true&items_on_page=100&no_magic=true&schedule=fullDay&schedule=shift&schedule=flexible&schedule=flyInFlyOut&specialization=9&from=cluster_professionalArea'},\n",
       " {'rel': ['nofollow'],\n",
       "  'class': ['clusters-value'],\n",
       "  'href': '?area=78&clusters=true&employment=full&employment=part&employment=project&enable_snippets=true&items_on_page=100&no_magic=true&schedule=fullDay&schedule=shift&schedule=flexible&schedule=flyInFlyOut&specialization=12&from=cluster_professionalArea'},\n",
       " {'rel': ['nofollow'],\n",
       "  'class': ['clusters-value'],\n",
       "  'href': '?area=78&clusters=true&employment=full&employment=part&employment=project&enable_snippets=true&items_on_page=100&no_magic=true&schedule=fullDay&schedule=shift&schedule=flexible&schedule=flyInFlyOut&specialization=23&from=cluster_professionalArea'},\n",
       " {'rel': ['nofollow'],\n",
       "  'class': ['clusters-value'],\n",
       "  'href': '?area=78&clusters=true&employment=full&employment=part&employment=project&enable_snippets=true&items_on_page=100&no_magic=true&schedule=fullDay&schedule=shift&schedule=flexible&schedule=flyInFlyOut&specialization=8&from=cluster_professionalArea'},\n",
       " {'rel': ['nofollow'],\n",
       "  'class': ['clusters-value'],\n",
       "  'href': '?area=78&clusters=true&employment=full&employment=part&employment=project&enable_snippets=true&items_on_page=100&no_magic=true&schedule=fullDay&schedule=shift&schedule=flexible&schedule=flyInFlyOut&specialization=14&from=cluster_professionalArea'},\n",
       " {'rel': ['nofollow'],\n",
       "  'class': ['clusters-value'],\n",
       "  'href': '?area=78&clusters=true&employment=full&employment=part&employment=project&enable_snippets=true&items_on_page=100&no_magic=true&schedule=fullDay&schedule=shift&schedule=flexible&schedule=flyInFlyOut&specialization=26&from=cluster_professionalArea'},\n",
       " {'rel': ['nofollow'],\n",
       "  'class': ['clusters-value'],\n",
       "  'href': '?area=78&clusters=true&employment=full&employment=part&employment=project&enable_snippets=true&items_on_page=100&no_magic=true&schedule=fullDay&schedule=shift&schedule=flexible&schedule=flyInFlyOut&specialization=10&from=cluster_professionalArea'},\n",
       " {'rel': ['nofollow'],\n",
       "  'class': ['clusters-value'],\n",
       "  'href': '?area=78&clusters=true&employment=full&employment=part&employment=project&enable_snippets=true&items_on_page=100&no_magic=true&schedule=fullDay&schedule=shift&schedule=flexible&schedule=flyInFlyOut&specialization=24&from=cluster_professionalArea'},\n",
       " {'rel': ['nofollow'],\n",
       "  'class': ['clusters-value'],\n",
       "  'href': '?area=78&clusters=true&employment=full&employment=part&employment=project&enable_snippets=true&items_on_page=100&no_magic=true&schedule=fullDay&schedule=shift&schedule=flexible&schedule=flyInFlyOut&specialization=11&from=cluster_professionalArea'},\n",
       " {'rel': ['nofollow'],\n",
       "  'class': ['clusters-value'],\n",
       "  'href': '?area=78&clusters=true&employment=full&employment=part&employment=project&enable_snippets=true&items_on_page=100&no_magic=true&schedule=fullDay&schedule=shift&schedule=flexible&schedule=flyInFlyOut&specialization=25&from=cluster_professionalArea'},\n",
       " {'rel': ['nofollow'],\n",
       "  'class': ['clusters-value'],\n",
       "  'href': '?area=78&clusters=true&employment=full&employment=part&employment=project&enable_snippets=true&items_on_page=100&no_magic=true&schedule=fullDay&schedule=shift&schedule=flexible&schedule=flyInFlyOut&specialization=19&from=cluster_professionalArea'},\n",
       " {'rel': ['nofollow'],\n",
       "  'class': ['clusters-value'],\n",
       "  'href': '?area=78&clusters=true&employment=full&employment=part&employment=project&enable_snippets=true&items_on_page=100&no_magic=true&schedule=fullDay&schedule=shift&schedule=flexible&schedule=flyInFlyOut&specialization=27&from=cluster_professionalArea'},\n",
       " {'rel': ['nofollow'],\n",
       "  'class': ['clusters-value'],\n",
       "  'href': '?area=78&clusters=true&employment=full&employment=part&employment=project&enable_snippets=true&items_on_page=100&no_magic=true&schedule=fullDay&schedule=shift&schedule=flexible&schedule=flyInFlyOut&specialization=16&from=cluster_professionalArea'},\n",
       " {'rel': ['nofollow'],\n",
       "  'class': ['clusters-value'],\n",
       "  'href': '?area=78&clusters=true&employment=full&employment=part&employment=project&enable_snippets=true&items_on_page=100&no_magic=true&schedule=fullDay&schedule=shift&schedule=flexible&schedule=flyInFlyOut&industry=41&from=cluster_industry'},\n",
       " {'rel': ['nofollow'],\n",
       "  'class': ['clusters-value'],\n",
       "  'href': '?area=78&clusters=true&employment=full&employment=part&employment=project&enable_snippets=true&items_on_page=100&no_magic=true&schedule=fullDay&schedule=shift&schedule=flexible&schedule=flyInFlyOut&industry=7&from=cluster_industry'},\n",
       " {'rel': ['nofollow'],\n",
       "  'class': ['clusters-value'],\n",
       "  'href': '?area=78&clusters=true&employment=full&employment=part&employment=project&enable_snippets=true&items_on_page=100&no_magic=true&schedule=fullDay&schedule=shift&schedule=flexible&schedule=flyInFlyOut&industry=42&from=cluster_industry'},\n",
       " {'rel': ['nofollow'],\n",
       "  'class': ['clusters-value'],\n",
       "  'href': '?area=78&clusters=true&employment=full&employment=part&employment=project&enable_snippets=true&items_on_page=100&no_magic=true&schedule=fullDay&schedule=shift&schedule=flexible&schedule=flyInFlyOut&industry=13&from=cluster_industry'},\n",
       " {'rel': ['nofollow'],\n",
       "  'class': ['clusters-value'],\n",
       "  'href': '?area=78&clusters=true&employment=full&employment=part&employment=project&enable_snippets=true&items_on_page=100&no_magic=true&schedule=fullDay&schedule=shift&schedule=flexible&schedule=flyInFlyOut&industry=43&from=cluster_industry'},\n",
       " {'rel': ['nofollow'],\n",
       "  'class': ['clusters-value'],\n",
       "  'href': '?area=78&clusters=true&employment=full&employment=part&employment=project&enable_snippets=true&items_on_page=100&no_magic=true&schedule=fullDay&schedule=shift&schedule=flexible&schedule=flyInFlyOut&industry=44&from=cluster_industry'},\n",
       " {'rel': ['nofollow'],\n",
       "  'class': ['clusters-value'],\n",
       "  'href': '?area=78&clusters=true&employment=full&employment=part&employment=project&enable_snippets=true&items_on_page=100&no_magic=true&schedule=fullDay&schedule=shift&schedule=flexible&schedule=flyInFlyOut&industry=48&from=cluster_industry'},\n",
       " {'rel': ['nofollow'],\n",
       "  'class': ['clusters-value'],\n",
       "  'href': '?area=78&clusters=true&employment=full&employment=part&employment=project&enable_snippets=true&items_on_page=100&no_magic=true&schedule=fullDay&schedule=shift&schedule=flexible&schedule=flyInFlyOut&industry=27&from=cluster_industry'},\n",
       " {'rel': ['nofollow'],\n",
       "  'class': ['clusters-value'],\n",
       "  'href': '?area=78&clusters=true&employment=full&employment=part&employment=project&enable_snippets=true&items_on_page=100&no_magic=true&schedule=fullDay&schedule=shift&schedule=flexible&schedule=flyInFlyOut&industry=50&from=cluster_industry'},\n",
       " {'rel': ['nofollow'],\n",
       "  'class': ['clusters-value'],\n",
       "  'href': '?area=78&clusters=true&employment=full&employment=part&employment=project&enable_snippets=true&items_on_page=100&no_magic=true&schedule=fullDay&schedule=shift&schedule=flexible&schedule=flyInFlyOut&industry=15&from=cluster_industry'},\n",
       " {'rel': ['nofollow'],\n",
       "  'class': ['clusters-value'],\n",
       "  'href': '?area=78&clusters=true&employment=full&employment=part&employment=project&enable_snippets=true&items_on_page=100&no_magic=true&schedule=fullDay&schedule=shift&schedule=flexible&schedule=flyInFlyOut&industry=388&from=cluster_industry'},\n",
       " {'rel': ['nofollow'],\n",
       "  'class': ['clusters-value'],\n",
       "  'href': '?area=78&clusters=true&employment=full&employment=part&employment=project&enable_snippets=true&items_on_page=100&no_magic=true&schedule=fullDay&schedule=shift&schedule=flexible&schedule=flyInFlyOut&industry=9&from=cluster_industry'},\n",
       " {'rel': ['nofollow'],\n",
       "  'class': ['clusters-value'],\n",
       "  'href': '?area=78&clusters=true&employment=full&employment=part&employment=project&enable_snippets=true&items_on_page=100&no_magic=true&schedule=fullDay&schedule=shift&schedule=flexible&schedule=flyInFlyOut&industry=5&from=cluster_industry'},\n",
       " {'rel': ['nofollow'],\n",
       "  'class': ['clusters-value'],\n",
       "  'href': '?area=78&clusters=true&employment=full&employment=part&employment=project&enable_snippets=true&items_on_page=100&no_magic=true&schedule=fullDay&schedule=shift&schedule=flexible&schedule=flyInFlyOut&industry=8&from=cluster_industry'},\n",
       " {'rel': ['nofollow'],\n",
       "  'class': ['clusters-value'],\n",
       "  'href': '?area=78&clusters=true&employment=full&employment=part&employment=project&enable_snippets=true&items_on_page=100&no_magic=true&schedule=fullDay&schedule=shift&schedule=flexible&schedule=flyInFlyOut&industry=11&from=cluster_industry'},\n",
       " {'rel': ['nofollow'],\n",
       "  'class': ['clusters-value'],\n",
       "  'href': '?area=78&clusters=true&employment=full&employment=part&employment=project&enable_snippets=true&items_on_page=100&no_magic=true&schedule=fullDay&schedule=shift&schedule=flexible&schedule=flyInFlyOut&industry=33&from=cluster_industry'},\n",
       " {'rel': ['nofollow'],\n",
       "  'class': ['clusters-value'],\n",
       "  'href': '?area=78&clusters=true&employment=full&employment=part&employment=project&enable_snippets=true&items_on_page=100&no_magic=true&schedule=fullDay&schedule=shift&schedule=flexible&schedule=flyInFlyOut&industry=47&from=cluster_industry'},\n",
       " {'rel': ['nofollow'],\n",
       "  'class': ['clusters-value'],\n",
       "  'href': '?area=78&clusters=true&employment=full&employment=part&employment=project&enable_snippets=true&items_on_page=100&no_magic=true&schedule=fullDay&schedule=shift&schedule=flexible&schedule=flyInFlyOut&industry=39&from=cluster_industry'},\n",
       " {'rel': ['nofollow'],\n",
       "  'class': ['clusters-value'],\n",
       "  'href': '?area=78&clusters=true&employment=full&employment=part&employment=project&enable_snippets=true&items_on_page=100&no_magic=true&schedule=fullDay&schedule=shift&schedule=flexible&schedule=flyInFlyOut&industry=24&from=cluster_industry'},\n",
       " {'rel': ['nofollow'],\n",
       "  'class': ['clusters-value'],\n",
       "  'href': '?area=78&clusters=true&employment=full&employment=part&employment=project&enable_snippets=true&items_on_page=100&no_magic=true&schedule=fullDay&schedule=shift&schedule=flexible&schedule=flyInFlyOut&industry=49&from=cluster_industry'},\n",
       " {'rel': ['nofollow'],\n",
       "  'class': ['clusters-value'],\n",
       "  'href': '?area=78&clusters=true&employment=full&employment=part&employment=project&enable_snippets=true&items_on_page=100&no_magic=true&schedule=fullDay&schedule=shift&schedule=flexible&schedule=flyInFlyOut&industry=34&from=cluster_industry'},\n",
       " {'rel': ['nofollow'],\n",
       "  'class': ['clusters-value'],\n",
       "  'href': '?area=78&clusters=true&employment=full&employment=part&employment=project&enable_snippets=true&items_on_page=100&no_magic=true&schedule=fullDay&schedule=shift&schedule=flexible&schedule=flyInFlyOut&industry=45&from=cluster_industry'},\n",
       " {'rel': ['nofollow'],\n",
       "  'class': ['clusters-value'],\n",
       "  'href': '?area=78&clusters=true&employment=full&employment=part&employment=project&enable_snippets=true&items_on_page=100&no_magic=true&schedule=fullDay&schedule=shift&schedule=flexible&schedule=flyInFlyOut&industry=46&from=cluster_industry'},\n",
       " {'rel': ['nofollow'],\n",
       "  'class': ['clusters-value'],\n",
       "  'href': '?area=78&clusters=true&employment=full&employment=part&employment=project&enable_snippets=true&items_on_page=100&no_magic=true&schedule=fullDay&schedule=shift&schedule=flexible&schedule=flyInFlyOut&industry=29&from=cluster_industry'},\n",
       " {'rel': ['nofollow'],\n",
       "  'class': ['clusters-value'],\n",
       "  'href': '?area=78&clusters=true&employment=full&employment=part&employment=project&enable_snippets=true&items_on_page=100&no_magic=true&schedule=fullDay&schedule=shift&schedule=flexible&schedule=flyInFlyOut&industry=51&from=cluster_industry'},\n",
       " {'rel': ['nofollow'],\n",
       "  'class': ['clusters-value'],\n",
       "  'href': '?area=78&clusters=true&employment=full&employment=part&employment=project&enable_snippets=true&items_on_page=100&no_magic=true&schedule=fullDay&schedule=shift&schedule=flexible&schedule=flyInFlyOut&industry=36&from=cluster_industry'},\n",
       " {'rel': ['nofollow'],\n",
       "  'class': ['clusters-value'],\n",
       "  'href': '?area=78&clusters=true&employment=full&employment=part&employment=project&enable_snippets=true&items_on_page=100&no_magic=true&schedule=fullDay&schedule=shift&schedule=flexible&schedule=flyInFlyOut&industry=37&from=cluster_industry'},\n",
       " {'rel': ['nofollow'],\n",
       "  'class': ['clusters-value'],\n",
       "  'href': '?area=78&clusters=true&employment=full&employment=part&employment=project&enable_snippets=true&items_on_page=100&no_magic=true&schedule=fullDay&schedule=shift&schedule=flexible&schedule=flyInFlyOut&industry=52&from=cluster_industry'},\n",
       " {'rel': ['nofollow'],\n",
       "  'class': ['clusters-value'],\n",
       "  'href': '?area=78&clusters=true&employment=full&employment=part&employment=project&enable_snippets=true&items_on_page=100&no_magic=true&schedule=fullDay&schedule=shift&schedule=flexible&schedule=flyInFlyOut&industry=19&from=cluster_industry'},\n",
       " {'rel': ['nofollow'],\n",
       "  'class': ['clusters-value'],\n",
       "  'href': '?area=78&clusters=true&employment=full&employment=part&employment=project&enable_snippets=true&items_on_page=100&no_magic=true&schedule=fullDay&schedule=shift&schedule=flexible&schedule=flyInFlyOut&industry=389&from=cluster_industry'},\n",
       " {'rel': ['nofollow'],\n",
       "  'class': ['clusters-value'],\n",
       "  'href': '?area=78&clusters=true&employment=full&employment=part&employment=project&enable_snippets=true&items_on_page=100&no_magic=true&schedule=fullDay&schedule=shift&schedule=flexible&schedule=flyInFlyOut&experience=between1And3&from=cluster_experience'},\n",
       " {'rel': ['nofollow'],\n",
       "  'class': ['clusters-value'],\n",
       "  'href': '?area=78&clusters=true&employment=full&employment=part&employment=project&enable_snippets=true&items_on_page=100&no_magic=true&schedule=fullDay&schedule=shift&schedule=flexible&schedule=flyInFlyOut&experience=noExperience&from=cluster_experience'},\n",
       " {'rel': ['nofollow'],\n",
       "  'class': ['clusters-value'],\n",
       "  'href': '?area=78&clusters=true&employment=full&employment=part&employment=project&enable_snippets=true&items_on_page=100&no_magic=true&schedule=fullDay&schedule=shift&schedule=flexible&schedule=flyInFlyOut&experience=between3And6&from=cluster_experience'},\n",
       " {'rel': ['nofollow'],\n",
       "  'class': ['clusters-value'],\n",
       "  'href': '?area=78&clusters=true&employment=full&employment=part&employment=project&enable_snippets=true&items_on_page=100&no_magic=true&schedule=fullDay&schedule=shift&schedule=flexible&schedule=flyInFlyOut&experience=moreThan6&from=cluster_experience'},\n",
       " {'rel': ['nofollow'],\n",
       "  'class': ['clusters-value', 'clusters-value_selected'],\n",
       "  'href': '?area=78&clusters=true&employment=project&employment=part&enable_snippets=true&items_on_page=100&no_magic=true&schedule=fullDay&schedule=shift&schedule=flexible&schedule=flyInFlyOut',\n",
       "  'data-qa': 'serp__criterion'},\n",
       " {'rel': ['nofollow'],\n",
       "  'class': ['clusters-value', 'clusters-value_selected'],\n",
       "  'href': '?area=78&clusters=true&employment=project&employment=full&enable_snippets=true&items_on_page=100&no_magic=true&schedule=fullDay&schedule=shift&schedule=flexible&schedule=flyInFlyOut',\n",
       "  'data-qa': 'serp__criterion'},\n",
       " {'rel': ['nofollow'],\n",
       "  'class': ['clusters-value', 'clusters-value_selected'],\n",
       "  'href': '?area=78&clusters=true&employment=part&employment=full&enable_snippets=true&items_on_page=100&no_magic=true&schedule=fullDay&schedule=shift&schedule=flexible&schedule=flyInFlyOut',\n",
       "  'data-qa': 'serp__criterion'},\n",
       " {'rel': ['nofollow'],\n",
       "  'class': ['clusters-value', 'clusters-value_selected'],\n",
       "  'href': '?area=78&clusters=true&employment=full&employment=part&employment=project&enable_snippets=true&items_on_page=100&no_magic=true&schedule=flyInFlyOut&schedule=flexible&schedule=shift',\n",
       "  'data-qa': 'serp__criterion'},\n",
       " {'rel': ['nofollow'],\n",
       "  'class': ['clusters-value', 'clusters-value_selected'],\n",
       "  'href': '?area=78&clusters=true&employment=full&employment=part&employment=project&enable_snippets=true&items_on_page=100&no_magic=true&schedule=flyInFlyOut&schedule=flexible&schedule=fullDay',\n",
       "  'data-qa': 'serp__criterion'},\n",
       " {'rel': ['nofollow'],\n",
       "  'class': ['clusters-value', 'clusters-value_selected'],\n",
       "  'href': '?area=78&clusters=true&employment=full&employment=part&employment=project&enable_snippets=true&items_on_page=100&no_magic=true&schedule=flyInFlyOut&schedule=fullDay&schedule=shift',\n",
       "  'data-qa': 'serp__criterion'},\n",
       " {'rel': ['nofollow'],\n",
       "  'class': ['clusters-value', 'clusters-value_selected'],\n",
       "  'href': '?area=78&clusters=true&employment=full&employment=part&employment=project&enable_snippets=true&items_on_page=100&no_magic=true&schedule=flexible&schedule=fullDay&schedule=shift',\n",
       "  'data-qa': 'serp__criterion'},\n",
       " {'rel': ['nofollow'],\n",
       "  'class': ['clusters-value'],\n",
       "  'href': '?area=78&clusters=true&employment=full&employment=part&employment=project&enable_snippets=true&items_on_page=100&no_magic=true&schedule=fullDay&schedule=shift&schedule=flexible&schedule=flyInFlyOut&label=accept_handicapped&from=cluster_label'},\n",
       " {'rel': ['nofollow'],\n",
       "  'class': ['clusters-value'],\n",
       "  'href': '?area=78&clusters=true&employment=full&employment=part&employment=project&enable_snippets=true&items_on_page=100&no_magic=true&schedule=fullDay&schedule=shift&schedule=flexible&schedule=flyInFlyOut&label=not_from_agency&from=cluster_label'},\n",
       " {'rel': ['nofollow'],\n",
       "  'class': ['clusters-value'],\n",
       "  'href': '?area=78&clusters=true&employment=full&employment=part&employment=project&enable_snippets=true&items_on_page=100&no_magic=true&schedule=fullDay&schedule=shift&schedule=flexible&schedule=flyInFlyOut&label=accept_kids&from=cluster_label'}]"
      ]
     },
     "execution_count": 78,
     "metadata": {},
     "output_type": "execute_result"
    }
   ],
   "source": [
    "[c.attrs for c in clusters]"
   ]
  },
  {
   "cell_type": "code",
   "execution_count": null,
   "metadata": {},
   "outputs": [],
   "source": []
  },
  {
   "cell_type": "code",
   "execution_count": 68,
   "metadata": {},
   "outputs": [],
   "source": [
    "vacancy_ulrs = get_vacancy_urls(search_in_samara_url)"
   ]
  },
  {
   "cell_type": "code",
   "execution_count": 69,
   "metadata": {},
   "outputs": [
    {
     "data": {
      "text/plain": [
       "2000"
      ]
     },
     "execution_count": 69,
     "metadata": {},
     "output_type": "execute_result"
    }
   ],
   "source": [
    "len(vacancy_ulrs)"
   ]
  },
  {
   "cell_type": "code",
   "execution_count": 50,
   "metadata": {},
   "outputs": [],
   "source": []
  },
  {
   "cell_type": "code",
   "execution_count": 61,
   "metadata": {},
   "outputs": [
    {
     "data": {
      "text/plain": [
       "200"
      ]
     },
     "execution_count": 61,
     "metadata": {},
     "output_type": "execute_result"
    }
   ],
   "source": [
    "initial_search_results_page.code"
   ]
  },
  {
   "cell_type": "code",
   "execution_count": 58,
   "metadata": {},
   "outputs": [],
   "source": []
  },
  {
   "cell_type": "code",
   "execution_count": 59,
   "metadata": {},
   "outputs": [
    {
     "data": {
      "text/plain": [
       "20"
      ]
     },
     "execution_count": 59,
     "metadata": {},
     "output_type": "execute_result"
    }
   ],
   "source": [
    "https://samara.hh.ru/search/vacancy?area=78&clusters=true&employment=full&employment=part&employment=project&enable_snippets=true&items_on_page=100&no_magic=true&schedule=fullDay&schedule=shift&schedule=flexible&schedule=flyInFlyOut&page=0"
   ]
  },
  {
   "cell_type": "code",
   "execution_count": 56,
   "metadata": {},
   "outputs": [
    {
     "data": {
      "text/plain": [
       "'2'"
      ]
     },
     "execution_count": 56,
     "metadata": {},
     "output_type": "execute_result"
    }
   ],
   "source": [
    "a"
   ]
  },
  {
   "cell_type": "code",
   "execution_count": 7,
   "metadata": {},
   "outputs": [],
   "source": [
    "divs = search_results_soup.findAll(\"div\", {\"class\": \"vacancy-serp-item\"})"
   ]
  },
  {
   "cell_type": "code",
   "execution_count": 24,
   "metadata": {},
   "outputs": [],
   "source": [
    "vacancy_ulrs = [div.findAll(\"a\", {\"class\":\"HH-LinkModifier\"})[0]['href'] for div in divs]"
   ]
  },
  {
   "cell_type": "code",
   "execution_count": 25,
   "metadata": {},
   "outputs": [
    {
     "data": {
      "text/plain": [
       "['https://samara.hh.ru/vacancy/30408895',\n",
       " 'https://samara.hh.ru/vacancy/29146601',\n",
       " 'https://samara.hh.ru/vacancy/29028380',\n",
       " 'https://samara.hh.ru/vacancy/27501878',\n",
       " 'https://samara.hh.ru/vacancy/27800821',\n",
       " 'https://samara.hh.ru/vacancy/30677935',\n",
       " 'https://samara.hh.ru/vacancy/30676806',\n",
       " 'https://samara.hh.ru/vacancy/29869948',\n",
       " 'https://samara.hh.ru/vacancy/30336866',\n",
       " 'https://samara.hh.ru/vacancy/30257433',\n",
       " 'https://samara.hh.ru/vacancy/27040601',\n",
       " 'https://samara.hh.ru/vacancy/29828351',\n",
       " 'https://samara.hh.ru/vacancy/28864450',\n",
       " 'https://samara.hh.ru/vacancy/30629912',\n",
       " 'https://samara.hh.ru/vacancy/28477429',\n",
       " 'https://samara.hh.ru/vacancy/20070193',\n",
       " 'https://samara.hh.ru/vacancy/30595658',\n",
       " 'https://samara.hh.ru/vacancy/30708240',\n",
       " 'https://samara.hh.ru/vacancy/30708232',\n",
       " 'https://samara.hh.ru/vacancy/30427048',\n",
       " 'https://samara.hh.ru/vacancy/30708216',\n",
       " 'https://samara.hh.ru/vacancy/30531776',\n",
       " 'https://samara.hh.ru/vacancy/30708152',\n",
       " 'https://samara.hh.ru/vacancy/30708121',\n",
       " 'https://samara.hh.ru/vacancy/30708111',\n",
       " 'https://samara.hh.ru/vacancy/30708107',\n",
       " 'https://samara.hh.ru/vacancy/30619632',\n",
       " 'https://samara.hh.ru/vacancy/30684493',\n",
       " 'https://samara.hh.ru/vacancy/30708089',\n",
       " 'https://samara.hh.ru/vacancy/30400380',\n",
       " 'https://samara.hh.ru/vacancy/30708062',\n",
       " 'https://samara.hh.ru/vacancy/30530437',\n",
       " 'https://samara.hh.ru/vacancy/30707957',\n",
       " 'https://samara.hh.ru/vacancy/30590421',\n",
       " 'https://samara.hh.ru/vacancy/30707930',\n",
       " 'https://samara.hh.ru/vacancy/30363372',\n",
       " 'https://samara.hh.ru/vacancy/29307353',\n",
       " 'https://samara.hh.ru/vacancy/30617506',\n",
       " 'https://samara.hh.ru/vacancy/29259118',\n",
       " 'https://samara.hh.ru/vacancy/30707894',\n",
       " 'https://samara.hh.ru/vacancy/30287890',\n",
       " 'https://samara.hh.ru/vacancy/30462926',\n",
       " 'https://samara.hh.ru/vacancy/30555217',\n",
       " 'https://samara.hh.ru/vacancy/30528752',\n",
       " 'https://samara.hh.ru/vacancy/30707847',\n",
       " 'https://samara.hh.ru/vacancy/30287382',\n",
       " 'https://samara.hh.ru/vacancy/30313656',\n",
       " 'https://samara.hh.ru/vacancy/30707839',\n",
       " 'https://samara.hh.ru/vacancy/30587568',\n",
       " 'https://samara.hh.ru/vacancy/29412363',\n",
       " 'https://samara.hh.ru/vacancy/29734322',\n",
       " 'https://samara.hh.ru/vacancy/30528546',\n",
       " 'https://samara.hh.ru/vacancy/30287241',\n",
       " 'https://samara.hh.ru/vacancy/30376133',\n",
       " 'https://samara.hh.ru/vacancy/30528113',\n",
       " 'https://samara.hh.ru/vacancy/30615723',\n",
       " 'https://samara.hh.ru/vacancy/30615607',\n",
       " 'https://samara.hh.ru/vacancy/30312493',\n",
       " 'https://samara.hh.ru/vacancy/30615103',\n",
       " 'https://samara.hh.ru/vacancy/30312391',\n",
       " 'https://samara.hh.ru/vacancy/30411352',\n",
       " 'https://samara.hh.ru/vacancy/30375510',\n",
       " 'https://samara.hh.ru/vacancy/30614915',\n",
       " 'https://samara.hh.ru/vacancy/30680611',\n",
       " 'https://samara.hh.ru/vacancy/30680603',\n",
       " 'https://samara.hh.ru/vacancy/30680565',\n",
       " 'https://samara.hh.ru/vacancy/30614781',\n",
       " 'https://samara.hh.ru/vacancy/30460896',\n",
       " 'https://samara.hh.ru/vacancy/30248847',\n",
       " 'https://samara.hh.ru/vacancy/30614507',\n",
       " 'https://samara.hh.ru/vacancy/30587597',\n",
       " 'https://samara.hh.ru/vacancy/30587470',\n",
       " 'https://samara.hh.ru/vacancy/30526589',\n",
       " 'https://samara.hh.ru/vacancy/30311505',\n",
       " 'https://samara.hh.ru/vacancy/30526456',\n",
       " 'https://samara.hh.ru/vacancy/30679742',\n",
       " 'https://samara.hh.ru/vacancy/30374672',\n",
       " 'https://samara.hh.ru/vacancy/30613611',\n",
       " 'https://samara.hh.ru/vacancy/30374388',\n",
       " 'https://samara.hh.ru/vacancy/30374233',\n",
       " 'https://samara.hh.ru/vacancy/30021529',\n",
       " 'https://samara.hh.ru/vacancy/30310360',\n",
       " 'https://samara.hh.ru/vacancy/30613014',\n",
       " 'https://samara.hh.ru/vacancy/30525297',\n",
       " 'https://samara.hh.ru/vacancy/30612887',\n",
       " 'https://samara.hh.ru/vacancy/30612850',\n",
       " 'https://samara.hh.ru/vacancy/30586104',\n",
       " 'https://samara.hh.ru/vacancy/30309701',\n",
       " 'https://samara.hh.ru/vacancy/30585862',\n",
       " 'https://samara.hh.ru/vacancy/30707579',\n",
       " 'https://samara.hh.ru/vacancy/30524742',\n",
       " 'https://samara.hh.ru/vacancy/30585646',\n",
       " 'https://samara.hh.ru/vacancy/30524457',\n",
       " 'https://samara.hh.ru/vacancy/30611994',\n",
       " 'https://samara.hh.ru/vacancy/30524444',\n",
       " 'https://samara.hh.ru/vacancy/30458892',\n",
       " 'https://samara.hh.ru/vacancy/30524421',\n",
       " 'https://samara.hh.ru/vacancy/30373214',\n",
       " 'https://samara.hh.ru/vacancy/30479968',\n",
       " 'https://samara.hh.ru/vacancy/30373167']"
      ]
     },
     "execution_count": 25,
     "metadata": {},
     "output_type": "execute_result"
    }
   ],
   "source": [
    "vacancy_ulrs"
   ]
  },
  {
   "cell_type": "code",
   "execution_count": 20,
   "metadata": {},
   "outputs": [
    {
     "data": {
      "text/plain": [
       "{'class': ['bloko-link', 'HH-LinkModifier'],\n",
       " 'data-qa': 'vacancy-serp__vacancy-title',\n",
       " 'href': 'https://samara.hh.ru/vacancy/30615607',\n",
       " 'data-position': '56',\n",
       " 'data-requestid': '1553447221724f992c09163f66735e16',\n",
       " 'data-totalvacancies': '7371',\n",
       " 'target': '_blank'}"
      ]
     },
     "execution_count": 20,
     "metadata": {},
     "output_type": "execute_result"
    }
   ],
   "source": [
    "a0.attrs"
   ]
  },
  {
   "cell_type": "code",
   "execution_count": null,
   "metadata": {},
   "outputs": [],
   "source": []
  }
 ],
 "metadata": {
  "kernelspec": {
   "display_name": "Python 3",
   "language": "python",
   "name": "python3"
  },
  "language_info": {
   "codemirror_mode": {
    "name": "ipython",
    "version": 3
   },
   "file_extension": ".py",
   "mimetype": "text/x-python",
   "name": "python",
   "nbconvert_exporter": "python",
   "pygments_lexer": "ipython3",
   "version": "3.6.7"
  }
 },
 "nbformat": 4,
 "nbformat_minor": 2
}
