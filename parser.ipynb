{
 "cells": [
  {
   "cell_type": "code",
   "execution_count": 7,
   "metadata": {
    "scrolled": false
   },
   "outputs": [],
   "source": [
    "from bs4 import BeautifulSoup\n",
    "import urllib.request\n",
    "\n",
    "#open site\n",
    "contents = urllib.request.urlopen(\"https://saint-petersburg.irr.ru/real-estate/apartments-sale/\").read()\n",
    "soup = BeautifulSoup(contents)\n",
    "mydivs = soup.findAll(\"div\", {\"class\": \"listing__item\"})"
   ]
  },
  {
   "cell_type": "code",
   "execution_count": 8,
   "metadata": {},
   "outputs": [],
   "source": [
    "#url to first pages\n",
    "yandex_real_estate = urllib.request.urlopen(\"https://realty.yandex.ru/sankt-peterburg/kupit/kvartira/\").read()\n",
    "url = \"https://www.avito.ru/sankt-peterburg/kvartiry?s_trg=1\"\n",
    "avito_real_estate = urllib.request.urlopen(\"https://www.avito.ru/sankt-peterburg/kvartiry/prodam\").read()"
   ]
  },
  {
   "cell_type": "code",
   "execution_count": null,
   "metadata": {},
   "outputs": [],
   "source": [
    "#parse avito with beautifoul soup\n",
    "avito_soup = BeautifulSoup(avito_real_estate)\n",
    "url_base = \"https://www.avito.ru\"\n",
    "flats = avito_soup.findAll(\"div\", {\"class\":\"item_table-description\"})\n",
    "page_count = 0\n",
    "\n",
    "data_flats = parse_page(flats, [])\n",
    "\n",
    "while True:\n",
    "    try:\n",
    "        page_count += 1\n",
    "        print(\"Page: \", page_count)\n",
    "        next_page = avito_soup.find(\"a\", {\"class\":\"pagination-page\"}).get('href')\n",
    "        flats = avito_soup.findAll(\"div\", {\"class\":\"item_table-description\"})\n",
    "        data_flats = parse_page(flats, data_flats)\n",
    "        \n",
    "        if page_count > 100:\n",
    "                break\n",
    "    except Error:\n",
    "        break\n",
    "\n",
    "print(\"finish\")\n",
    "print(\"data len: \", len(data_flats))\n",
    "\n"
   ]
  },
  {
   "cell_type": "code",
   "execution_count": 230,
   "metadata": {},
   "outputs": [],
   "source": [
    "#extract all relevant data from single page\n",
    "def parse_page(flats, data_flats):\n",
    "    rent_count = 0\n",
    "    print(\"flats on page: \", len(flats))\n",
    "    for (index, flat) in enumerate(flats):\n",
    "\n",
    "        print(\"Flat number\", index)\n",
    "\n",
    "        #price\n",
    "        print(\"price:\")\n",
    "        price = price_from_json(flat)\n",
    "        if(price < 200_000):\n",
    "            rent_count += 1\n",
    "            print(\"Rent found, skip\")\n",
    "            continue\n",
    "        print(price)\n",
    "        print()\n",
    "\n",
    "\n",
    "        #rooms, area, floor level\n",
    "        print(\"rooms:\")\n",
    "        description = flat.find(\"a\", {\"class\": \"item-description-title-link\"})['title']\n",
    "        try_rooms = description.split(\",\")[0][0]\n",
    "        if try_rooms.isnumeric():\n",
    "            rooms = int(try_rooms)\n",
    "        else:\n",
    "            rooms = 1\n",
    "        print(rooms)\n",
    "        print()\n",
    "\n",
    "        print(\"area:\")\n",
    "        area = float(description.split(\",\")[1].split(\" \")[1])\n",
    "        print(area, \"m^2\")\n",
    "        print()\n",
    "\n",
    "        print(description)\n",
    "\n",
    "        print(\"floor:\")\n",
    "        floor = description.split(\",\")[2].split(\" \")[1].split(\"/\")[0]\n",
    "        floors_total = description.split(\",\")[2].split(\" \")[1].split(\"/\")[1]\n",
    "        print(\"\" + floor + \", total floors: \" + floors_total)\n",
    "        print()\n",
    "\n",
    "        #subway, distance to subway, adress\n",
    "        full_adress = flat.find(\"p\", {\"class\": \"address\"}).getText()\n",
    "\n",
    "        adress = ','.join(full_adress.split(\",\")[1:])\n",
    "        print(\"adress:\")\n",
    "        print(adress)\n",
    "        print()\n",
    "\n",
    "        subway = full_adress.split(\",\")[0]\n",
    "        for (ind,el) in enumerate(subway.split()):\n",
    "            try:\n",
    "                float(el)\n",
    "                subway_station = ' '.join(subway.split()[:ind])\n",
    "                distance = float(subway.split()[ind])\n",
    "            except ValueError:\n",
    "                pass\n",
    "\n",
    "        print(\"subway:\")\n",
    "        print(subway_station)\n",
    "        print()\n",
    "\n",
    "        if distance < 99:\n",
    "            distance *= 1000\n",
    "        print(\"distance to subway:\")\n",
    "        print(distance, \"meters\")\n",
    "        print()\n",
    "\n",
    "        print(\"go to next page\")\n",
    "        data_flats.append((price, rooms, area, floor, floors_total, adress, subway_station, distance))\n",
    "    \n",
    "    print(rent_count)\n",
    "    return data_flats\n",
    "    "
   ]
  },
  {
   "cell_type": "code",
   "execution_count": 59,
   "metadata": {},
   "outputs": [],
   "source": [
    "#extract price\n",
    "def price_from_json(flat):\n",
    "    price = flat.find(\"div\", {\"class\": \"popup-prices\"})['data-prices']\n",
    "    price_ind = price.find('RUB\":')\n",
    "    price_cut = price[price_ind + 5:]\n",
    "    price_in_rub = price_cut.split(\",\")[0]\n",
    "    return int(price_in_rub)"
   ]
  },
  {
   "cell_type": "code",
   "execution_count": 202,
   "metadata": {},
   "outputs": [],
   "source": [
    "#flat data class combining all relevant data\n",
    "class Flat:\n",
    "    \n",
    "    def __init__(self, flat_price, flat_rooms, flat_area, flat_floor, \n",
    "                 flat_floors_total, flat_address, flat_subway_st, flat_distance_to_subway):\n",
    "        self.flat_price = flat_price\n",
    "        self.flat_rooms = flat_rooms \n",
    "        self.flat_area = flat_area\n",
    "        self.flat_floor = flat_floor\n",
    "        self.flat_floors_total = flat_floors_total\n",
    "        self.flat_address = flat_address\n",
    "        self.flat_subway_st = flat_subway_st\n",
    "        self.flat_distance_to_subway = flat_distance_to_subway\n",
    "        \n",
    "    def __str__(self):\n",
    "        return ''.join(\"adress = \"+ flat_address + \n",
    "                       \", price = \"+ str(flat_price)+ \n",
    "                       \", rooms = \"+ str(flat_rooms)+\n",
    "                        \", floor = \"+ str(flat_floor)+ \n",
    "                       \", area = \" + str(flat_area) +\n",
    "                      \", total_floors = \"+ str(flat_floors_total)+ \n",
    "                       \", subway = \"+ flat_subway_st + \n",
    "                       \", distance to subway = \" + flat_distance_to_subway)"
   ]
  },
  {
   "cell_type": "code",
   "execution_count": 220,
   "metadata": {},
   "outputs": [
    {
     "name": "stdout",
     "output_type": "stream",
     "text": [
      "{'Чкаловская', 'Проспект Просвещения', 'Пионерская', 'Пролетарская', 'Приморская', 'Купчино', 'Проспект Большевиков', 'Елизаровская', 'Ломоносовская', 'Комендантский проспект', 'Василеостровская', 'Ладожская', 'Девяткино', 'Спортивная', 'Московская', 'Чернышевская', 'Автово', 'Звездная', 'Обухово', 'Парнас', 'Достоевская', 'Проспект Ветеранов', 'Новочеркасская', 'Гражданский проспект'}\n"
     ]
    }
   ],
   "source": [
    "#\n",
    "subways = set()\n",
    "for flat in data_flats:\n",
    "    subways.add(flat[6])\n",
    "print(subways)"
   ]
  },
  {
   "cell_type": "code",
   "execution_count": 225,
   "metadata": {},
   "outputs": [],
   "source": [
    "#clean up parsed data\n",
    "new_data_flats = []\n",
    "for flat in data_flats:\n",
    "    new_flat = (flat[0],flat[1],flat[2],flat[3],flat[4],flat[5].replace('\\xa0', '', 2),flat[6],flat[7])\n",
    "    new_data_flats.append(new_flat)"
   ]
  },
  {
   "cell_type": "code",
   "execution_count": 229,
   "metadata": {},
   "outputs": [],
   "source": [
    "#write collected data to .csv file as a pandas dataframe\n",
    "import numpy\n",
    "import pandas as pd \n",
    "\n",
    "a = numpy.asarray(new_data_flats)\n",
    "pd.DataFrame(a).to_csv(\"data.csv\", header=['price', 'rooms', 'area', 'floor', 'floors_total', 'adress',\n",
    "                                           'subway_station', 'distance to subway'])"
   ]
  }
 ],
 "metadata": {
  "kernelspec": {
   "display_name": "Python 3",
   "language": "python",
   "name": "python3"
  },
  "language_info": {
   "codemirror_mode": {
    "name": "ipython",
    "version": 3
   },
   "file_extension": ".py",
   "mimetype": "text/x-python",
   "name": "python",
   "nbconvert_exporter": "python",
   "pygments_lexer": "ipython3",
   "version": "3.7.1"
  }
 },
 "nbformat": 4,
 "nbformat_minor": 2
}
